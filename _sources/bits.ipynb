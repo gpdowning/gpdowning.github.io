{
 "cells": [
  {
   "cell_type": "markdown",
   "metadata": {},
   "source": [
    "# Bits"
   ]
  },
  {
   "cell_type": "markdown",
   "metadata": {},
   "source": [
    "Ben Reed\n",
    "\n",
    "Thu, 2 Feb 2023"
   ]
  },
  {
   "cell_type": "markdown",
   "metadata": {},
   "source": [
    "# Integers"
   ]
  },
  {
   "cell_type": "markdown",
   "metadata": {
    "jp-MarkdownHeadingCollapsed": true
   },
   "source": [
    "- Integers are stored as a binary numbers.\n",
    "- Each binary digit is referred to as a bit. Since binary numbers are base-2, each bit can be a 0 or 1.\n",
    "- Since modern processors manage memory in terms of 8-bit bytes, integers are generally stored as 8-bit, 16-bit, 32-bit, 64-bit, and sometimes 128-bit numbers.\n",
    "- Some languages or libraries provide access to larger numbers, sometimes even arbitrarily large numbers.\n",
    "- Signed integers use one of the bits for the sign, which means that an 8-bit unsigned integer can represent numbers from 0 to 28-1, but an 8-bit signed integer goes from -27 to 27-1."
   ]
  },
  {
   "cell_type": "markdown",
   "metadata": {},
   "source": [
    "## Integer Representation"
   ]
  },
  {
   "cell_type": "markdown",
   "metadata": {},
   "source": [
    "All of these assignments will result in the unsigned 16-bit integer i storing the number 0000000100000001"
   ]
  },
  {
   "cell_type": "code",
   "execution_count": 1,
   "metadata": {},
   "outputs": [],
   "source": [
    "i = 257\n",
    "assert i == 0b100000001\n",
    "i = 0x101\n",
    "assert i == 0b100000001\n",
    "i = 0b100000001\n",
    "assert i == 0b100000001\n",
    "i = 0o401\n",
    "assert i == 0b100000001"
   ]
  },
  {
   "cell_type": "markdown",
   "metadata": {},
   "source": [
    "Representing a number in a different base does not change how it is stored."
   ]
  },
  {
   "cell_type": "markdown",
   "metadata": {},
   "source": [
    "## Bitmasking"
   ]
  },
  {
   "cell_type": "markdown",
   "metadata": {},
   "source": [
    "Since each bit is 0 or 1 we can do the equivalent of a logical operation as a bit operation where we treat 0 as false and 1 as true."
   ]
  },
  {
   "cell_type": "code",
   "execution_count": 2,
   "metadata": {},
   "outputs": [],
   "source": [
    "assert (True and True)  == True\n",
    "assert (1 & 1)          == True\n",
    "assert (True and False) == False\n",
    "assert (1 & 0)          == False"
   ]
  },
  {
   "cell_type": "markdown",
   "metadata": {},
   "source": [
    "We can do it to all the bits at once."
   ]
  },
  {
   "cell_type": "code",
   "execution_count": null,
   "metadata": {},
   "outputs": [],
   "source": [
    "assert 0b11001101 & 0b1111 == 0b1101"
   ]
  },
  {
   "cell_type": "markdown",
   "metadata": {},
   "source": [
    "Since all integers are binary numbers, the above can be expressed as:"
   ]
  },
  {
   "cell_type": "code",
   "execution_count": null,
   "metadata": {},
   "outputs": [],
   "source": [
    "assert 0b11001101 & 0xf == 13"
   ]
  }
 ],
 "metadata": {
  "kernelspec": {
   "display_name": "Python 3 (ipykernel)",
   "language": "python",
   "name": "python3"
  },
  "language_info": {
   "codemirror_mode": {
    "name": "ipython",
    "version": 3
   },
   "file_extension": ".py",
   "mimetype": "text/x-python",
   "name": "python",
   "nbconvert_exporter": "python",
   "pygments_lexer": "ipython3",
   "version": "3.11.6"
  },
  "widgets": {
   "application/vnd.jupyter.widget-state+json": {
    "state": {},
    "version_major": 2,
    "version_minor": 0
   }
  }
 },
 "nbformat": 4,
 "nbformat_minor": 4
}
